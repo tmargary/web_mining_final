{
 "cells": [
  {
   "cell_type": "markdown",
   "metadata": {},
   "source": [
    "# Exploring Data"
   ]
  },
  {
   "cell_type": "code",
   "execution_count": 77,
   "metadata": {},
   "outputs": [],
   "source": [
    "import pandas as pd"
   ]
  },
  {
   "cell_type": "code",
   "execution_count": 78,
   "metadata": {},
   "outputs": [],
   "source": [
    "g = open('data_postings.txt','r')\n",
    "postings = list(map(lambda x:x[:-1],g.readlines()))\n",
    "g.close()\n",
    "\n",
    "g = open('data_labels.txt','r') # What we WANT to know!\n",
    "labels = list(map(lambda x:x[:-1].upper(),g.readlines()))\n",
    "g.close()"
   ]
  },
  {
   "cell_type": "code",
   "execution_count": 79,
   "metadata": {},
   "outputs": [
    {
     "data": {
      "text/plain": [
       "10526"
      ]
     },
     "execution_count": 79,
     "metadata": {},
     "output_type": "execute_result"
    }
   ],
   "source": [
    "len(postings)"
   ]
  },
  {
   "cell_type": "code",
   "execution_count": 80,
   "metadata": {},
   "outputs": [
    {
     "data": {
      "text/plain": [
       "'\"Bachelor’s degree, or equivalent experience, in Computer Science, Engineering, Mathematics or a related field5+ years’ experience of Data platform implementation, including 3+ years of hands-on experience in implementation and performance tuning Kinesis/Kafka/Spark/Storm implementations.Experience with analytic solutions applied to the Marketing or Risk needs of enterprisesBasic understanding of machine learning fundamentals.Ability to take Machine Learning models and implement them as part of data pipeline5+ years of IT platform implementation experience.Experience with one or more relevant tools ( Flink, Spark, Sqoop, Flume, Kafka, Amazon Kinesis ).Experience developing software code in one or more programming languages (Java, JavaScript, Python, etc).Current hands-on implementation experience requiredAt Amazon Web Services (AWS), we’re hiring highly technical cloud computing architects and engineers to collaborate with our customers and partners on key engagements. Our consultants will develop and deliver proof-of-concept projects, technical workshops, and support implementation projects. These professional services engagements will focus on customer solutions such as Machine Learning, Data and Analytics, HPC and more.In this role, you will work with our partners, customers and focus on our AWS Analytics and ML service offerings such Amazon Kinesis, AWS Glue, Amazon Redshift, Amazon EMR, Amazon Athena, Amazon SageMaker and more. You will help our customers and partners to remove the constraints that prevent them from leveraging their data to develop business insights.AWS Professional Services engage in a wide variety of projects for customers and partners, providing collective experience from across the AWS customer base and are obsessed about customer success. Our team collaborates across the entire AWS organization to bring access to product and service teams, to get the right solution delivered and drive feature innovation based upon customer needs.In our Global Specialist Practice, you will also have the opportunity to create white papers, writing blogs, build demos and other reusable collateral that can be used by our customers, and, most importantly, you will work closely with our Solution Architects, Data Scientists and Service Engineering teams.The ideal candidate will have extensive experience with design, development and operations that leverages deep knowledge in the use of services like Amazon Kinesis, Apache Kafka, Apache Spark, Amazon Sagemaker, Amazon EMR, NoSQL technologies and other 3rd parties.Excellent business and communication skills are a must to develop and define key business questions and to build data sets that answer those questions. You should be able to work with business customers in understanding the business requirements and implementing solutions.This is a customer facing role. You will be required to travel to client locations and deliver professional services when needed.Masters or PhD in Computer Science, Physics, Engineering or Math.Hands on experience working on large-scale data science/data analytics projects.Ability to lead effectively across organizations.Hands-on experience with Data Analytics technologies such as AWS, Hadoop, Spark, Spark SQL, MLib or Storm/Samza.Implementing AWS services in a variety of distributed computing, enterprise environments.Proficiency with at least one the languages such as C++, Java, Scala or Python.Experience with at least one of the modern distributed Machine Learning and Deep Learning frameworks such as TensorFlow, PyTorch, MxNet Caffe, and Keras.Experience building large-scale machine-learning infrastructure that have been successfully delivered to customers.Experience defining system architectures and exploring technical feasibility trade-offs.3+ years experiences developing cloud software services and an understanding of design for scalability, performance and reliability.Experience working on a code base with many contributors.Ability to prototype and evaluate applications and interaction methodologies.Experience with AWS technology stack.Written and verbal technical communication skills with an ability to present complex technical information in a clear and concise manner to a variety of audiences.Amazon is committed to a diverse and inclusive workplace. Amazon is an equal opportunity employer and does not discriminate on the basis of race, national origin, gender, gender identity, sexual orientation, protected veteran status, disability, age, or other legally protected status. For individuals with disabilities who would like to request an accommodation, please visit https://www.amazon.jobs/en/disability/us.,Data & ML Engineer - Nationwide Opportunities\"'"
      ]
     },
     "execution_count": 80,
     "metadata": {},
     "output_type": "execute_result"
    }
   ],
   "source": [
    "postings[0]"
   ]
  },
  {
   "cell_type": "code",
   "execution_count": 81,
   "metadata": {},
   "outputs": [
    {
     "data": {
      "text/plain": [
       "'DS'"
      ]
     },
     "execution_count": 81,
     "metadata": {},
     "output_type": "execute_result"
    }
   ],
   "source": [
    "labels[0]"
   ]
  },
  {
   "cell_type": "code",
   "execution_count": 28,
   "metadata": {},
   "outputs": [
    {
     "name": "stdout",
     "output_type": "stream",
     "text": [
      "labels \t: \tpostings\n",
      "\n",
      "DS\t:\t\"City: Palo AltoState/Province: CaliforniaCountry: United StatesDepartment: Rese...\n",
      "DS\t:\t\"When you join VerizonVerizon is a leading provider of technology, communication...\n",
      "DS\t:\t\"Bachelor’s degree, or equivalent experience, in Computer Science, Engineering, ...\n",
      "DS\t:\t\"Company Overview: Lennox International (LII) is a leading global provider of in...\n",
      "DS\t:\t\"Data ScientistDo you want to build your brand by working for a leading consulti...\n",
      "DS\t:\t\"Job OverviewProvides expertise in statistical methodologies and project managem...\n"
     ]
    }
   ],
   "source": [
    "def pretty_print_review_and_label(i):\n",
    "    print(labels[i] + \"\\t:\\t\" + postings[i][:80] + \"...\")\n",
    "    \n",
    "print(\"labels \\t: \\tpostings\\n\")\n",
    "pretty_print_review_and_label(2137)\n",
    "pretty_print_review_and_label(5816)\n",
    "pretty_print_review_and_label(0)\n",
    "pretty_print_review_and_label(5934)\n",
    "pretty_print_review_and_label(5297)\n",
    "pretty_print_review_and_label(4998)"
   ]
  },
  {
   "cell_type": "markdown",
   "metadata": {},
   "source": [
    "# Finding correlations and removing meaningless words"
   ]
  },
  {
   "cell_type": "code",
   "execution_count": 29,
   "metadata": {},
   "outputs": [],
   "source": [
    "from collections import Counter\n",
    "import numpy as np"
   ]
  },
  {
   "cell_type": "code",
   "execution_count": 30,
   "metadata": {},
   "outputs": [],
   "source": [
    "se_counts = Counter()\n",
    "ds_counts = Counter()\n",
    "total_counts = Counter()"
   ]
  },
  {
   "cell_type": "code",
   "execution_count": 31,
   "metadata": {},
   "outputs": [],
   "source": [
    "for posting in range(len(postings)):\n",
    "    if labels[posting] == 'SE':\n",
    "        for word in postings[posting].split(\" \"):\n",
    "            se_counts[word] += 1\n",
    "            total_counts[word] += 1\n",
    "    else:\n",
    "        for word in postings[posting].split(\" \"):\n",
    "            ds_counts[word] += 1\n",
    "            total_counts[word] += 1"
   ]
  },
  {
   "cell_type": "code",
   "execution_count": 32,
   "metadata": {},
   "outputs": [
    {
     "data": {
      "text/plain": [
       "[('and', 154509),\n",
       " ('to', 84117),\n",
       " ('the', 68386),\n",
       " ('of', 64404),\n",
       " ('a', 49559),\n",
       " ('in', 47594),\n",
       " ('with', 43243),\n",
       " ('for', 31435),\n",
       " ('or', 26971),\n",
       " ('is', 22593)]"
      ]
     },
     "execution_count": 32,
     "metadata": {},
     "output_type": "execute_result"
    }
   ],
   "source": [
    "# the counts of the most common words in se_counts\n",
    "se_counts.most_common()[:10]"
   ]
  },
  {
   "cell_type": "code",
   "execution_count": 33,
   "metadata": {},
   "outputs": [
    {
     "data": {
      "text/plain": [
       "[('and', 181858),\n",
       " ('to', 98522),\n",
       " ('the', 76322),\n",
       " ('of', 75216),\n",
       " ('in', 54041),\n",
       " ('a', 50989),\n",
       " ('with', 45047),\n",
       " ('data', 36878),\n",
       " ('for', 33969),\n",
       " ('or', 31630)]"
      ]
     },
     "execution_count": 33,
     "metadata": {},
     "output_type": "execute_result"
    }
   ],
   "source": [
    "# the counts of the most common words in ds_counts\n",
    "ds_counts.most_common()[:10]"
   ]
  },
  {
   "cell_type": "code",
   "execution_count": 34,
   "metadata": {},
   "outputs": [],
   "source": [
    "se_ds_ratios = Counter()\n",
    "\n",
    "for term, count in list(total_counts.most_common()):\n",
    "    if count > 100:\n",
    "        se_ds_ratio = se_counts[term] / float(ds_counts[term]+1)\n",
    "        se_ds_ratios[term] = se_ds_ratio"
   ]
  },
  {
   "cell_type": "code",
   "execution_count": 35,
   "metadata": {},
   "outputs": [
    {
     "name": "stdout",
     "output_type": "stream",
     "text": [
      "se-to-ds ratio for 'and' = 0.849608762832744\n",
      "se-to-ds ratio for 'to' = 0.8537803355561645\n",
      "se-to-ds ratio for 'analytical' = 0.2119972733469666\n",
      "se-to-ds ratio for 'Software' = 11.89622641509434\n",
      "se-to-ds ratio for 'Statistics' = 0.008771929824561403\n"
     ]
    }
   ],
   "source": [
    "print(\"se-to-ds ratio for 'and' = {}\".format(se_ds_ratios[\"and\"]))\n",
    "print(\"se-to-ds ratio for 'to' = {}\".format(se_ds_ratios[\"to\"]))\n",
    "print(\"se-to-ds ratio for 'analytical' = {}\".format(se_ds_ratios[\"analytical\"]))\n",
    "print(\"se-to-ds ratio for 'Software' = {}\".format(se_ds_ratios[\"Software\"]))\n",
    "print(\"se-to-ds ratio for 'Statistics' = {}\".format(se_ds_ratios[\"Statistics\"]))"
   ]
  },
  {
   "cell_type": "code",
   "execution_count": 36,
   "metadata": {},
   "outputs": [],
   "source": [
    "for word, ratio in list(se_ds_ratios.most_common()):\n",
    "    if(ratio > 2):\n",
    "        se_ds_ratios[word] = np.log(ratio)\n",
    "    else:\n",
    "        se_ds_ratios[word] = -np.log(1 / (ratio+0.01))"
   ]
  },
  {
   "cell_type": "code",
   "execution_count": 37,
   "metadata": {},
   "outputs": [
    {
     "name": "stdout",
     "output_type": "stream",
     "text": [
      "se-to-ds ratio for 'and' = -0.15127792018390745\n",
      "se-to-ds ratio for 'to' = -0.14643678375730732\n",
      "se-to-ds ratio for 'analytical' = -1.505090179406156\n",
      "se-to-ds ratio for 'Software' = 2.4762212418528526\n",
      "se-to-ds ratio for 'Statistics' = -3.9753926193607354\n"
     ]
    }
   ],
   "source": [
    "print(\"se-to-ds ratio for 'and' = {}\".format(se_ds_ratios[\"and\"]))\n",
    "print(\"se-to-ds ratio for 'to' = {}\".format(se_ds_ratios[\"to\"]))\n",
    "print(\"se-to-ds ratio for 'analytical' = {}\".format(se_ds_ratios[\"analytical\"]))\n",
    "print(\"se-to-ds ratio for 'Software' = {}\".format(se_ds_ratios[\"Software\"]))\n",
    "print(\"se-to-ds ratio for 'Statistics' = {}\".format(se_ds_ratios[\"Statistics\"]))"
   ]
  },
  {
   "cell_type": "code",
   "execution_count": 38,
   "metadata": {},
   "outputs": [
    {
     "data": {
      "text/plain": [
       "[('Tanzu', 5.262690188904886),\n",
       " ('Relic', 5.247024072160486),\n",
       " ('Cox', 5.087596335232384),\n",
       " ('Macy’s', 4.787491742782046),\n",
       " ('REST,', 4.42484663185681),\n",
       " ('.Net', 3.982792076316353),\n",
       " ('ASP.NET', 3.979681653901961),\n",
       " ('observability', 3.8110970868381857),\n",
       " ('Observability', 3.784189633918261),\n",
       " ('Android', 3.5094109663023882),\n",
       " ('Framework,', 3.506557897319982),\n",
       " ('.NET', 3.46989391294839),\n",
       " ('test-driven', 3.4231762883809305),\n",
       " ('TypeScript,', 3.349904087274605),\n",
       " ('frontend', 3.2843754224853225),\n",
       " ('Node.js', 3.2771447329921766),\n",
       " ('Selenium', 3.2386784521643803),\n",
       " ('MVC', 3.228826155721369),\n",
       " ('MVC,', 3.164067588373206),\n",
       " ('Angular', 3.0719214119115374),\n",
       " ('JavaScript', 3.0529898888225215),\n",
       " ('client-side', 3.044522437723423),\n",
       " ('iOS', 3.030417831541881),\n",
       " ('Ruby', 3.0226397264739155),\n",
       " ('microservice', 2.8779492378976075),\n",
       " ('CIS,', 2.849880396541428),\n",
       " ('bug', 2.817040484810615),\n",
       " ('React', 2.799311792380535),\n",
       " ('C#', 2.7653510549395506),\n",
       " ('JS', 2.7454377331738304)]"
      ]
     },
     "execution_count": 38,
     "metadata": {},
     "output_type": "execute_result"
    }
   ],
   "source": [
    "se_ds_ratios.most_common()[:30]"
   ]
  },
  {
   "cell_type": "code",
   "execution_count": 39,
   "metadata": {},
   "outputs": [
    {
     "data": {
      "text/plain": [
       "[('PCG', -4.605170185988092),\n",
       " ('AstraZeneca', -4.605170185988092),\n",
       " ('hypotheses', -4.605170185988092),\n",
       " ('descriptive', -4.605170185988092),\n",
       " ('ADaM', -4.605170185988092),\n",
       " ('Biostatistics,', -4.605170185988092),\n",
       " ('SDTM', -4.605170185988092),\n",
       " ('CDISC', -4.605170185988092),\n",
       " ('GSK', -4.605170185988092),\n",
       " ('Statistician', -4.605170185988092),\n",
       " ('Bayesian', -4.605170185988092),\n",
       " ('Scientist,', -4.605170185988092),\n",
       " ('Scientist\"', -4.297181714570609),\n",
       " ('Economics,', -4.176796587083057),\n",
       " ('Scientist', -4.152888017834711),\n",
       " ('statistical,', -4.126766354617089),\n",
       " ('\"Data', -4.096997083671232),\n",
       " ('SPSS,', -4.02440725496528),\n",
       " ('semester', -4.006513848849068),\n",
       " ('Statistical', -3.9984927586164183),\n",
       " ('Analyst\"', -3.98214867143405),\n",
       " ('Statistics', -3.9753926193607354),\n",
       " ('sentiment', -3.9670827826111736),\n",
       " ('statistical', -3.8395106934183167),\n",
       " ('supervised', -3.787232232614358),\n",
       " ('causal', -3.730284369082059),\n",
       " ('Science\"\"\"', -3.6545547115728616),\n",
       " ('Statistics,', -3.619854608717692),\n",
       " ('unsupervised', -3.616460671551059),\n",
       " ('clustering,', -3.5293601881939622)]"
      ]
     },
     "execution_count": 39,
     "metadata": {},
     "output_type": "execute_result"
    }
   ],
   "source": [
    "list(reversed(se_ds_ratios.most_common()))[0:30]"
   ]
  },
  {
   "cell_type": "code",
   "execution_count": 40,
   "metadata": {},
   "outputs": [
    {
     "name": "stderr",
     "output_type": "stream",
     "text": [
      "[nltk_data] Downloading package punkt to\n",
      "[nltk_data]     C:\\Users\\tigra\\AppData\\Roaming\\nltk_data...\n",
      "[nltk_data]   Package punkt is already up-to-date!\n"
     ]
    }
   ],
   "source": [
    "#! pip install nltk\n",
    "\n",
    "import nltk\n",
    "import re\n",
    "from nltk.tokenize import word_tokenize\n",
    "nltk.download('punkt')\n",
    "\n",
    "new_data = []\n",
    "\n",
    "for line in range(len(postings)):\n",
    "    \n",
    "    word_list = ''\n",
    "    \n",
    "    for word in postings[line].split(\" \"):\n",
    "        if se_ds_ratios[word] > 1 or se_ds_ratios[word] < -1:\n",
    "            word_list += word + ' '\n",
    "    word_list = re.sub(r\"[^a-zA-Z0-9]\", \" \", word_list.lower())\n",
    "    word_list = list(set(word_tokenize(word_list)))\n",
    "    sentence = \" \".join(word_list)\n",
    "    new_data.append(sentence)"
   ]
  },
  {
   "cell_type": "markdown",
   "metadata": {},
   "source": [
    "# Final input"
   ]
  },
  {
   "cell_type": "code",
   "execution_count": 70,
   "metadata": {},
   "outputs": [
    {
     "data": {
      "text/plain": [
       "'scalability learning applied professional engagements machine kafka phd physics ml javascript sql scientists emr pytorch data risk analytics specialist sets software mathematics analytic models engineer answer tensorflow code marketing deep consultants web java spark'"
      ]
     },
     "execution_count": 70,
     "metadata": {},
     "output_type": "execute_result"
    }
   ],
   "source": [
    "new_data[0]"
   ]
  },
  {
   "cell_type": "code",
   "execution_count": 71,
   "metadata": {},
   "outputs": [
    {
     "data": {
      "text/plain": [
       "'DS'"
      ]
     },
     "execution_count": 71,
     "metadata": {},
     "output_type": "execute_result"
    }
   ],
   "source": [
    "labels[0]"
   ]
  },
  {
   "cell_type": "code",
   "execution_count": 72,
   "metadata": {},
   "outputs": [
    {
     "data": {
      "text/plain": [
       "'software learning ml iot scientists approaches data models machine environmental engineer c algorithms train embedded novel processing mobile'"
      ]
     },
     "execution_count": 72,
     "metadata": {},
     "output_type": "execute_result"
    }
   ],
   "source": [
    "new_data[1]"
   ]
  },
  {
   "cell_type": "code",
   "execution_count": 73,
   "metadata": {},
   "outputs": [
    {
     "data": {
      "text/plain": [
       "'SE'"
      ]
     },
     "execution_count": 73,
     "metadata": {},
     "output_type": "execute_result"
    }
   ],
   "source": [
    "labels[1]"
   ]
  },
  {
   "cell_type": "code",
   "execution_count": 44,
   "metadata": {},
   "outputs": [
    {
     "data": {
      "text/plain": [
       "10526"
      ]
     },
     "execution_count": 44,
     "metadata": {},
     "output_type": "execute_result"
    }
   ],
   "source": [
    "len(new_data)"
   ]
  },
  {
   "cell_type": "markdown",
   "metadata": {},
   "source": [
    "# Building the model"
   ]
  },
  {
   "cell_type": "code",
   "execution_count": 63,
   "metadata": {},
   "outputs": [],
   "source": [
    "post_train, labels_train = new_data[:10000], labels[:10000]\n",
    "post_test, labels_test = new_data[10000:], labels[10000:]"
   ]
  },
  {
   "cell_type": "code",
   "execution_count": 64,
   "metadata": {},
   "outputs": [
    {
     "data": {
      "text/plain": [
       "10000"
      ]
     },
     "execution_count": 64,
     "metadata": {},
     "output_type": "execute_result"
    }
   ],
   "source": [
    "len(post_train)"
   ]
  },
  {
   "cell_type": "code",
   "execution_count": 65,
   "metadata": {},
   "outputs": [
    {
     "data": {
      "text/plain": [
       "526"
      ]
     },
     "execution_count": 65,
     "metadata": {},
     "output_type": "execute_result"
    }
   ],
   "source": [
    "len(post_test)"
   ]
  },
  {
   "cell_type": "code",
   "execution_count": 83,
   "metadata": {},
   "outputs": [
    {
     "data": {
      "text/plain": [
       "CountVectorizer()"
      ]
     },
     "execution_count": 83,
     "metadata": {},
     "output_type": "execute_result"
    }
   ],
   "source": [
    "#Build a counter based on the training dataset\n",
    "from sklearn.feature_extraction.text import CountVectorizer\n",
    "from sklearn.metrics import accuracy_score\n",
    "\n",
    "counter = CountVectorizer()\n",
    "counter.fit(new_data)"
   ]
  },
  {
   "cell_type": "code",
   "execution_count": 84,
   "metadata": {},
   "outputs": [],
   "source": [
    "#count the number of times each term appears in a document and transform each doc into a count vector\n",
    "counts_train = counter.transform(post_train)#transform the training data\n",
    "counts_test = counter.transform(post_test)#transform the testing data"
   ]
  },
  {
   "cell_type": "markdown",
   "metadata": {},
   "source": [
    "# Decision Tree Classifier"
   ]
  },
  {
   "cell_type": "code",
   "execution_count": 85,
   "metadata": {},
   "outputs": [
    {
     "name": "stdout",
     "output_type": "stream",
     "text": [
      "0.9562737642585551\n"
     ]
    }
   ],
   "source": [
    "from sklearn.tree import DecisionTreeClassifier\n",
    "\n",
    "#train classifier\n",
    "clf = DecisionTreeClassifier()\n",
    "\n",
    "#train all classifier on the same datasets\n",
    "clf.fit(counts_train,labels_train)\n",
    "\n",
    "#use hard voting to predict (majority voting)\n",
    "pred=clf.predict(counts_test)\n",
    "\n",
    "#print accuracy\n",
    "print (accuracy_score(pred,labels_test))"
   ]
  },
  {
   "cell_type": "markdown",
   "metadata": {},
   "source": [
    "# K Neighbors Classifier"
   ]
  },
  {
   "cell_type": "code",
   "execution_count": 86,
   "metadata": {},
   "outputs": [
    {
     "name": "stdout",
     "output_type": "stream",
     "text": [
      "0.9524714828897338\n"
     ]
    }
   ],
   "source": [
    "from sklearn.neighbors import KNeighborsClassifier\n",
    "KNN_classifier=KNeighborsClassifier()\n",
    "KNN_classifier.fit(counts_train,labels_train)\n",
    "pred=KNN_classifier.predict(counts_test)\n",
    "print (accuracy_score(pred,labels_test))"
   ]
  }
 ],
 "metadata": {
  "kernelspec": {
   "display_name": "Python 3",
   "language": "python",
   "name": "python3"
  },
  "language_info": {
   "codemirror_mode": {
    "name": "ipython",
    "version": 3
   },
   "file_extension": ".py",
   "mimetype": "text/x-python",
   "name": "python",
   "nbconvert_exporter": "python",
   "pygments_lexer": "ipython3",
   "version": "3.8.5"
  }
 },
 "nbformat": 4,
 "nbformat_minor": 4
}
